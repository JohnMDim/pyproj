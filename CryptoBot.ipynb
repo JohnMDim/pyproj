{
 "cells": [
  {
   "cell_type": "code",
   "execution_count": 36,
   "metadata": {},
   "outputs": [],
   "source": [
    "from bs4 import BeautifulSoup\n",
    "import requests\n",
    "import pandas as pd"
   ]
  },
  {
   "cell_type": "code",
   "execution_count": 37,
   "metadata": {},
   "outputs": [],
   "source": [
    "website = 'https://www.coingecko.com/'"
   ]
  },
  {
   "cell_type": "code",
   "execution_count": 38,
   "metadata": {},
   "outputs": [],
   "source": [
    "response = requests.get(website)"
   ]
  },
  {
   "cell_type": "code",
   "execution_count": 39,
   "metadata": {},
   "outputs": [
    {
     "data": {
      "text/plain": [
       "200"
      ]
     },
     "execution_count": 39,
     "metadata": {},
     "output_type": "execute_result"
    }
   ],
   "source": [
    "response.status_code"
   ]
  },
  {
   "cell_type": "code",
   "execution_count": 40,
   "metadata": {},
   "outputs": [],
   "source": [
    "soup = BeautifulSoup(response.content , 'html.parser')"
   ]
  },
  {
   "cell_type": "code",
   "execution_count": 41,
   "metadata": {},
   "outputs": [],
   "source": [
    "results = soup.find(\"table\" , attrs={'class':\"table-scrollable\"}).find('tbody').find_all('tr')"
   ]
  },
  {
   "cell_type": "code",
   "execution_count": 42,
   "metadata": {},
   "outputs": [
    {
     "data": {
      "text/plain": [
       "'Bitcoin\\n\\n\\nBTC'"
      ]
     },
     "execution_count": 42,
     "metadata": {},
     "output_type": "execute_result"
    }
   ],
   "source": [
    "results[0].find(\"a\", class_ = \"tw-flex tw-items-start md:tw-flex-row tw-flex-col\").get_text().strip() #TODO remove everything after the '\\n'"
   ]
  },
  {
   "cell_type": "code",
   "execution_count": 43,
   "metadata": {},
   "outputs": [
    {
     "data": {
      "text/plain": [
       "'$23,831.96'"
      ]
     },
     "execution_count": 43,
     "metadata": {},
     "output_type": "execute_result"
    }
   ],
   "source": [
    "results[0].find(\"td\" , class_ = \"td-price price text-right pl-0\").get_text().strip()"
   ]
  },
  {
   "cell_type": "code",
   "execution_count": 44,
   "metadata": {},
   "outputs": [
    {
     "data": {
      "text/plain": [
       "'$27,780,014,251'"
      ]
     },
     "execution_count": 44,
     "metadata": {},
     "output_type": "execute_result"
    }
   ],
   "source": [
    "results[0].find(\"td\" , class_ = \"td-liquidity_score lit text-right col-market\").get_text().strip()"
   ]
  },
  {
   "cell_type": "code",
   "execution_count": 45,
   "metadata": {},
   "outputs": [
    {
     "data": {
      "text/plain": [
       "'$455,200,953,862'"
      ]
     },
     "execution_count": 45,
     "metadata": {},
     "output_type": "execute_result"
    }
   ],
   "source": [
    "results[0].find(\"td\" , class_ = \"td-market_cap cap col-market cap-price text-right\").get_text().strip()"
   ]
  },
  {
   "cell_type": "code",
   "execution_count": 46,
   "metadata": {},
   "outputs": [],
   "source": [
    "name = []\n",
    "price = []\n",
    "volume_24h = []\n",
    "mktcap = []\n",
    "\n",
    "for result in results:\n",
    "    \n",
    "    try:\n",
    "        name.append(result.find(\"a\", class_ = \"tw-flex tw-items-start md:tw-flex-row tw-flex-col\").get_text().strip())\n",
    "    except:\n",
    "        name.append(\"n/a\")\n",
    "        \n",
    "    \n",
    "    try:\n",
    "        price.append(result.find(\"td\" , class_ = \"td-price price text-right pl-0\").get_text().strip())\n",
    "    except:\n",
    "        name.append(\"n/a\")\n",
    "        \n",
    "        \n",
    "    try:\n",
    "        volume_24h.append(result.find(\"td\" , class_ = \"td-liquidity_score lit text-right col-market\").get_text().strip())\n",
    "    except:\n",
    "        name.append(\"n/a\")\n",
    "        \n",
    "        \n",
    "    try:\n",
    "        mktcap.append(result.find(\"td\" , class_ = \"td-market_cap cap col-market cap-price text-right\").get_text().strip())\n",
    "    except:\n",
    "        name.append(\"n/a\")"
   ]
  },
  {
   "cell_type": "code",
   "execution_count": 47,
   "metadata": {},
   "outputs": [],
   "source": [
    "crypto_df = pd.DataFrame({'Coin' : name , 'price' : price , 'Volume_24h' : volume_24h , 'mktcap' : mktcap})"
   ]
  },
  {
   "cell_type": "code",
   "execution_count": 48,
   "metadata": {},
   "outputs": [
    {
     "data": {
      "text/plain": [
       "Index(['Coin', 'price', 'Volume_24h', 'mktcap'], dtype='object')"
      ]
     },
     "execution_count": 48,
     "metadata": {},
     "output_type": "execute_result"
    }
   ],
   "source": [
    "crypto_df.columns"
   ]
  },
  {
   "cell_type": "code",
   "execution_count": 79,
   "metadata": {},
   "outputs": [],
   "source": [
    "\n",
    "bronze_list = []\n",
    "\n",
    "#if crypto_df['mktcap'] / crypto_df['price'] >= 5:\n",
    "    #print(crypto_df['Coin'])\n",
    "    \n",
    "#crypto_df = crypto_df.astype({\"mktcap\":\"float\",\"price\":\"float\"})\n",
    "\n",
    "\n",
    "mktcap_df = crypto_df['mktcap'].replace('\\,','',regex=True).replace('\\$','',regex=True).astype(float)\n",
    "\n",
    "price_df = crypto_df['Volume_24h'].replace('\\,','',regex=True).replace('\\$','',regex=True).astype(float)\n",
    "\n",
    "#print(mktcap_df)\n",
    "\n",
    "#print(price_df)\n",
    "\n",
    "\n",
    "for count , coins in enumerate(crypto_df['Coin']):\n",
    "    \n",
    "    new_df = mktcap_df / price_df\n",
    "    \n",
    "    if new_df[count] >= 5:\n",
    "        bronze_list.append(coins)\n",
    "\n",
    "    bronze_ult_df = pd.DataFrame(bronze_list)\n"
   ]
  },
  {
   "cell_type": "code",
   "execution_count": null,
   "metadata": {},
   "outputs": [],
   "source": [
    "bronze_ult_df"
   ]
  },
  {
   "cell_type": "code",
   "execution_count": 78,
   "metadata": {},
   "outputs": [],
   "source": [
    "bronze_ult_df.to_excel('GBOT.xlsx') # When I export it doesnt look like it , but it does just export name of coin not the extra stuff shown in dataframe'\n",
    "\n",
    "# Still need to add the iteration thorugh all of the pages of coin gecko\n",
    "\n",
    "# Then need to automate going thorugh the invetor website"
   ]
  },
  {
   "cell_type": "code",
   "execution_count": null,
   "metadata": {},
   "outputs": [],
   "source": [
    "https://stackoverflow.com/questions/13962006/using-python-to-ask-a-web-page-to-run-a-search"
   ]
  }
 ],
 "metadata": {
  "kernelspec": {
   "display_name": "Python 3",
   "language": "python",
   "name": "python3"
  },
  "language_info": {
   "codemirror_mode": {
    "name": "ipython",
    "version": 3
   },
   "file_extension": ".py",
   "mimetype": "text/x-python",
   "name": "python",
   "nbconvert_exporter": "python",
   "pygments_lexer": "ipython3",
   "version": "3.7.6"
  }
 },
 "nbformat": 4,
 "nbformat_minor": 4
}
