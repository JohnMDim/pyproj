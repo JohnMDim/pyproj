{
 "cells": [
  {
   "cell_type": "code",
   "execution_count": 118,
   "metadata": {},
   "outputs": [],
   "source": [
    "from bs4 import BeautifulSoup\n",
    "import requests\n",
    "import pandas as pd"
   ]
  },
  {
   "cell_type": "code",
   "execution_count": 119,
   "metadata": {},
   "outputs": [],
   "source": [
    "website = 'https://www.coingecko.com/'"
   ]
  },
  {
   "cell_type": "code",
   "execution_count": 120,
   "metadata": {},
   "outputs": [],
   "source": [
    "response = requests.get(website)"
   ]
  },
  {
   "cell_type": "code",
   "execution_count": 121,
   "metadata": {},
   "outputs": [
    {
     "data": {
      "text/plain": [
       "200"
      ]
     },
     "execution_count": 121,
     "metadata": {},
     "output_type": "execute_result"
    }
   ],
   "source": [
    "response.status_code"
   ]
  },
  {
   "cell_type": "code",
   "execution_count": 122,
   "metadata": {},
   "outputs": [],
   "source": [
    "soup = BeautifulSoup(response.content , 'html.parser')"
   ]
  },
  {
   "cell_type": "code",
   "execution_count": 123,
   "metadata": {},
   "outputs": [],
   "source": [
    "results = soup.find(\"table\" , attrs={'class':\"table-scrollable\"}).find('tbody').find_all('tr')"
   ]
  },
  {
   "cell_type": "code",
   "execution_count": 124,
   "metadata": {},
   "outputs": [
    {
     "data": {
      "text/plain": [
       "'Bitcoin'"
      ]
     },
     "execution_count": 124,
     "metadata": {},
     "output_type": "execute_result"
    }
   ],
   "source": [
    "results[0].find(\"a\", class_ = \"tw-hidden lg:tw-flex font-bold tw-items-center tw-justify-between\").get_text().strip()"
   ]
  },
  {
   "cell_type": "code",
   "execution_count": 125,
   "metadata": {},
   "outputs": [
    {
     "data": {
      "text/plain": [
       "'$28,499.15'"
      ]
     },
     "execution_count": 125,
     "metadata": {},
     "output_type": "execute_result"
    }
   ],
   "source": [
    "results[0].find(\"td\" , class_ = \"td-price price text-right pl-0\").get_text().strip()"
   ]
  },
  {
   "cell_type": "code",
   "execution_count": 126,
   "metadata": {},
   "outputs": [
    {
     "data": {
      "text/plain": [
       "'$68,368,658,069'"
      ]
     },
     "execution_count": 126,
     "metadata": {},
     "output_type": "execute_result"
    }
   ],
   "source": [
    "results[0].find(\"td\" , class_ = \"td-liquidity_score lit text-right col-market\").get_text().strip()"
   ]
  },
  {
   "cell_type": "code",
   "execution_count": 127,
   "metadata": {},
   "outputs": [
    {
     "data": {
      "text/plain": [
       "['$547,275,571,787',\n",
       " '$260,823,781,969',\n",
       " '$82,735,570,571',\n",
       " '$48,788,970,804',\n",
       " '$44,387,450,560',\n",
       " '$19,288,703,980',\n",
       " '$17,176,181,424',\n",
       " '$17,016,593,229',\n",
       " '$16,663,499,930',\n",
       " '$11,117,931,863',\n",
       " '$9,660,340,684',\n",
       " '$9,100,770,985',\n",
       " '$8,853,471,907',\n",
       " '$8,777,996,341',\n",
       " '$8,148,099,907',\n",
       " '$7,513,482,129',\n",
       " '$6,381,618,433',\n",
       " '$6,216,359,711',\n",
       " '$4,879,566,383',\n",
       " '$4,863,037,483',\n",
       " '$4,485,099,825',\n",
       " '$4,423,295,381',\n",
       " '$4,237,466,216',\n",
       " '$4,102,413,731',\n",
       " '$3,567,048,540',\n",
       " '$3,141,855,901',\n",
       " '$3,032,903,300',\n",
       " '$3,024,288,945',\n",
       " '$2,993,472,052',\n",
       " '$2,782,736,934',\n",
       " '$2,595,961,558',\n",
       " '$2,483,916,593',\n",
       " '$2,170,089,808',\n",
       " '$1,993,278,350',\n",
       " '$1,958,743,422',\n",
       " '$1,951,596,260',\n",
       " '$1,932,889,423',\n",
       " '$1,886,178,774',\n",
       " '$1,886,014,548',\n",
       " '$1,828,200,443',\n",
       " '$1,817,656,368',\n",
       " '$1,788,212,665',\n",
       " '$1,672,718,306',\n",
       " '$1,618,752,919',\n",
       " '$1,592,041,969',\n",
       " '$1,542,869,810',\n",
       " '$1,490,247,205',\n",
       " '$1,486,772,326',\n",
       " '$1,460,136,117',\n",
       " '$1,359,927,616',\n",
       " '$1,280,052,209',\n",
       " '$1,277,189,625',\n",
       " '$1,267,821,351',\n",
       " '$1,204,743,565',\n",
       " '$1,193,342,219',\n",
       " '$1,187,494,066',\n",
       " '$1,175,499,513',\n",
       " '$1,147,014,429',\n",
       " '$1,140,400,714',\n",
       " '$1,124,859,382',\n",
       " '$1,121,753,260',\n",
       " '$1,026,772,177',\n",
       " '$1,017,177,676',\n",
       " '$1,013,058,595',\n",
       " '$994,869,540',\n",
       " '$977,293,483',\n",
       " '$976,014,076',\n",
       " '$963,881,859',\n",
       " '$912,497,076',\n",
       " '$883,959,290',\n",
       " '$859,153,210',\n",
       " '$855,531,820',\n",
       " '$854,096,840',\n",
       " '$849,049,620',\n",
       " '$841,501,220',\n",
       " '$826,845,480',\n",
       " '$781,685,466',\n",
       " '$779,932,689',\n",
       " '$777,230,276',\n",
       " '$775,204,008',\n",
       " '$775,117,987',\n",
       " '$754,456,111',\n",
       " '$752,417,578',\n",
       " '$743,179,710',\n",
       " '$734,924,546',\n",
       " '$720,922,527',\n",
       " '$717,880,179',\n",
       " '$705,560,903',\n",
       " '$654,166,686',\n",
       " '$639,428,468',\n",
       " '$609,083,696',\n",
       " '$603,343,736',\n",
       " '$600,751,462',\n",
       " '$595,019,242',\n",
       " '$555,031,799',\n",
       " '$550,999,482',\n",
       " '$549,826,438',\n",
       " '$545,444,849',\n",
       " '$544,176,823',\n",
       " '$541,504,156']"
      ]
     },
     "execution_count": 127,
     "metadata": {},
     "output_type": "execute_result"
    }
   ],
   "source": [
    "results[0].find(\"td\" , class_ = \"td-market_cap cap col-market cap-price text-right\").get_text().strip()"
   ]
  },
  {
   "cell_type": "code",
   "execution_count": 128,
   "metadata": {},
   "outputs": [],
   "source": [
    "name = []\n",
    "price = []\n",
    "volume_24h = []\n",
    "mktcap = []\n",
    "\n",
    "for result in results:\n",
    "    \n",
    "    try:\n",
    "        name.append(result.find(\"a\", class_ = \"tw-hidden lg:tw-flex font-bold tw-items-center tw-justify-between\").get_text().strip())\n",
    "    except:\n",
    "        name.append(\"n/a\")\n",
    "        \n",
    "    \n",
    "    try:\n",
    "        price.append(result.find(\"td\" , class_ = \"td-price price text-right pl-0\").get_text().strip())\n",
    "    except:\n",
    "        name.append(\"n/a\")\n",
    "        \n",
    "        \n",
    "    try:\n",
    "        volume_24h.append(result.find(\"td\" , class_ = \"td-liquidity_score lit text-right col-market\").get_text().strip())\n",
    "    except:\n",
    "        name.append(\"n/a\")\n",
    "        \n",
    "        \n",
    "    try:\n",
    "        mktcap.append(result.find(\"td\" , class_ = \"td-market_cap cap col-market cap-price text-right\").get_text().strip())\n",
    "    except:\n",
    "        name.append(\"n/a\")"
   ]
  },
  {
   "cell_type": "code",
   "execution_count": 129,
   "metadata": {},
   "outputs": [],
   "source": [
    "crypto_df = pd.DataFrame({'Coin' : name , 'price' : price , 'Volume_24h' : volume_24h , 'mktcap' : mktcap})"
   ]
  },
  {
   "cell_type": "code",
   "execution_count": 130,
   "metadata": {},
   "outputs": [
    {
     "data": {
      "text/html": [
       "<div>\n",
       "<style scoped>\n",
       "    .dataframe tbody tr th:only-of-type {\n",
       "        vertical-align: middle;\n",
       "    }\n",
       "\n",
       "    .dataframe tbody tr th {\n",
       "        vertical-align: top;\n",
       "    }\n",
       "\n",
       "    .dataframe thead th {\n",
       "        text-align: right;\n",
       "    }\n",
       "</style>\n",
       "<table border=\"1\" class=\"dataframe\">\n",
       "  <thead>\n",
       "    <tr style=\"text-align: right;\">\n",
       "      <th></th>\n",
       "      <th>Coin</th>\n",
       "      <th>price</th>\n",
       "      <th>Volume_24h</th>\n",
       "      <th>mktcap</th>\n",
       "    </tr>\n",
       "  </thead>\n",
       "  <tbody>\n",
       "    <tr>\n",
       "      <th>0</th>\n",
       "      <td>Bitcoin</td>\n",
       "      <td>$28,499.15</td>\n",
       "      <td>$68,368,658,069</td>\n",
       "      <td>$547,275,571,787</td>\n",
       "    </tr>\n",
       "    <tr>\n",
       "      <th>1</th>\n",
       "      <td>Ethereum</td>\n",
       "      <td>$1,982.38</td>\n",
       "      <td>$48,209,458,268</td>\n",
       "      <td>$260,823,781,969</td>\n",
       "    </tr>\n",
       "    <tr>\n",
       "      <th>2</th>\n",
       "      <td>Tether</td>\n",
       "      <td>$1.00</td>\n",
       "      <td>$154,777,741,001</td>\n",
       "      <td>$82,735,570,571</td>\n",
       "    </tr>\n",
       "    <tr>\n",
       "      <th>3</th>\n",
       "      <td>USD Coin</td>\n",
       "      <td>$1.01</td>\n",
       "      <td>$20,179,870,408</td>\n",
       "      <td>$48,788,970,804</td>\n",
       "    </tr>\n",
       "    <tr>\n",
       "      <th>4</th>\n",
       "      <td>BNB</td>\n",
       "      <td>$256.04</td>\n",
       "      <td>$4,459,263,034</td>\n",
       "      <td>$44,387,450,560</td>\n",
       "    </tr>\n",
       "    <tr>\n",
       "      <th>...</th>\n",
       "      <td>...</td>\n",
       "      <td>...</td>\n",
       "      <td>...</td>\n",
       "      <td>...</td>\n",
       "    </tr>\n",
       "    <tr>\n",
       "      <th>95</th>\n",
       "      <td>Enjin Coin</td>\n",
       "      <td>$0.567005</td>\n",
       "      <td>$362,769,774</td>\n",
       "      <td>$550,999,482</td>\n",
       "    </tr>\n",
       "    <tr>\n",
       "      <th>96</th>\n",
       "      <td>Synthetix Network Token</td>\n",
       "      <td>$2.37</td>\n",
       "      <td>$157,065,973</td>\n",
       "      <td>$549,826,438</td>\n",
       "    </tr>\n",
       "    <tr>\n",
       "      <th>97</th>\n",
       "      <td>Chiliz</td>\n",
       "      <td>$0.094972600408</td>\n",
       "      <td>$213,214,904</td>\n",
       "      <td>$545,444,849</td>\n",
       "    </tr>\n",
       "    <tr>\n",
       "      <th>98</th>\n",
       "      <td>Amp</td>\n",
       "      <td>$0.010544598553</td>\n",
       "      <td>$19,853,303</td>\n",
       "      <td>$544,176,823</td>\n",
       "    </tr>\n",
       "    <tr>\n",
       "      <th>99</th>\n",
       "      <td>Curve DAO Token</td>\n",
       "      <td>$1.33</td>\n",
       "      <td>$386,245,078</td>\n",
       "      <td>$541,504,156</td>\n",
       "    </tr>\n",
       "  </tbody>\n",
       "</table>\n",
       "<p>100 rows × 4 columns</p>\n",
       "</div>"
      ],
      "text/plain": [
       "                       Coin            price        Volume_24h  \\\n",
       "0                   Bitcoin       $28,499.15   $68,368,658,069   \n",
       "1                  Ethereum        $1,982.38   $48,209,458,268   \n",
       "2                    Tether            $1.00  $154,777,741,001   \n",
       "3                  USD Coin            $1.01   $20,179,870,408   \n",
       "4                       BNB          $256.04    $4,459,263,034   \n",
       "..                      ...              ...               ...   \n",
       "95               Enjin Coin        $0.567005      $362,769,774   \n",
       "96  Synthetix Network Token            $2.37      $157,065,973   \n",
       "97                   Chiliz  $0.094972600408      $213,214,904   \n",
       "98                      Amp  $0.010544598553       $19,853,303   \n",
       "99          Curve DAO Token            $1.33      $386,245,078   \n",
       "\n",
       "              mktcap  \n",
       "0   $547,275,571,787  \n",
       "1   $260,823,781,969  \n",
       "2    $82,735,570,571  \n",
       "3    $48,788,970,804  \n",
       "4    $44,387,450,560  \n",
       "..               ...  \n",
       "95      $550,999,482  \n",
       "96      $549,826,438  \n",
       "97      $545,444,849  \n",
       "98      $544,176,823  \n",
       "99      $541,504,156  \n",
       "\n",
       "[100 rows x 4 columns]"
      ]
     },
     "execution_count": 130,
     "metadata": {},
     "output_type": "execute_result"
    }
   ],
   "source": [
    "crypto_df"
   ]
  },
  {
   "cell_type": "code",
   "execution_count": null,
   "metadata": {},
   "outputs": [],
   "source": []
  }
 ],
 "metadata": {
  "kernelspec": {
   "display_name": "Python 3",
   "language": "python",
   "name": "python3"
  },
  "language_info": {
   "codemirror_mode": {
    "name": "ipython",
    "version": 3
   },
   "file_extension": ".py",
   "mimetype": "text/x-python",
   "name": "python",
   "nbconvert_exporter": "python",
   "pygments_lexer": "ipython3",
   "version": "3.7.6"
  }
 },
 "nbformat": 4,
 "nbformat_minor": 4
}
